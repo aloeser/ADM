{
 "cells": [
  {
   "cell_type": "markdown",
   "id": "alive-authority",
   "metadata": {},
   "source": [
    "# First exercise"
   ]
  },
  {
   "cell_type": "code",
   "execution_count": 2,
   "id": "alleged-salad",
   "metadata": {},
   "outputs": [],
   "source": [
    "import gurobipy as gp\n",
    "from gurobipy import GRB"
   ]
  },
  {
   "cell_type": "code",
   "execution_count": 24,
   "id": "proper-neighbor",
   "metadata": {},
   "outputs": [],
   "source": [
    "# Create model\n",
    "m = gp.Model(\"exercise1\")"
   ]
  },
  {
   "cell_type": "code",
   "execution_count": 25,
   "id": "private-kansas",
   "metadata": {},
   "outputs": [],
   "source": [
    "# Create variables - one for each project\n",
    "p1 = m.addVar(vtype=GRB.INTEGER, name=\"Product A\")\n",
    "p2 = m.addVar(vtype=GRB.INTEGER, name=\"Product B\")\n",
    "p3 = m.addVar(vtype=GRB.INTEGER, name=\"Product C\")"
   ]
  },
  {
   "cell_type": "code",
   "execution_count": 26,
   "id": "raised-atlanta",
   "metadata": {},
   "outputs": [],
   "source": [
    "# Define optimization goal\n",
    "revenue = 30 * p1 + 28 * p2 + 24 * p3\n",
    "cost = p1 * (2*2 + 5*4) + p2 * (4*2 + 6*3) + p3 * (2*4 + 1*3)\n",
    "m.setObjective(revenue - cost, GRB.MAXIMIZE)"
   ]
  },
  {
   "cell_type": "code",
   "execution_count": 27,
   "id": "martial-missile",
   "metadata": {},
   "outputs": [
    {
     "data": {
      "text/plain": [
       "<gurobi.Constr *Awaiting Model Update*>"
      ]
     },
     "execution_count": 27,
     "metadata": {},
     "output_type": "execute_result"
    }
   ],
   "source": [
    "# Define constraints\n",
    "# Product constraints\n",
    "m.addConstr(p1 <= 300, \"Product A maxProd\")\n",
    "m.addConstr(p2 <= 180, \"Product B maxProd\")\n",
    "m.addConstr(p3 <= 500, \"Product C maxProd\")\n",
    "\n",
    "# Component constraints\n",
    "m.addConstr(2*p1 + 4*p2 <= 800, \"Component 1 maxSupply\")\n",
    "m.addConstr(5*p1 + 2*p3 <= 900, \"Component 2 maxSupply\")\n",
    "m.addConstr(6*p2 + 1*p3 <= 1300, \"Component 3 maxSupply\")"
   ]
  },
  {
   "cell_type": "code",
   "execution_count": 28,
   "id": "gentle-ensemble",
   "metadata": {},
   "outputs": [
    {
     "name": "stdout",
     "output_type": "stream",
     "text": [
      "Gurobi Optimizer version 9.1.1 build v9.1.1rc0 (linux64)\n",
      "Thread count: 8 physical cores, 16 logical processors, using up to 16 threads\n",
      "Optimize a model with 6 rows, 3 columns and 9 nonzeros\n",
      "Model fingerprint: 0x972edfe3\n",
      "Variable types: 0 continuous, 3 integer (0 binary)\n",
      "Coefficient statistics:\n",
      "  Matrix range     [1e+00, 6e+00]\n",
      "  Objective range  [2e+00, 1e+01]\n",
      "  Bounds range     [0e+00, 0e+00]\n",
      "  RHS range        [2e+02, 1e+03]\n",
      "Found heuristic solution: objective 1300.0000000\n",
      "Presolve removed 3 rows and 0 columns\n",
      "Presolve time: 0.00s\n",
      "Presolved: 3 rows, 3 columns, 6 nonzeros\n",
      "Variable types: 0 continuous, 3 integer (0 binary)\n",
      "\n",
      "Root relaxation: objective 6.133333e+03, 2 iterations, 0.00 seconds\n",
      "\n",
      "    Nodes    |    Current Node    |     Objective Bounds      |     Work\n",
      " Expl Unexpl |  Obj  Depth IntInf | Incumbent    BestBd   Gap | It/Node Time\n",
      "\n",
      "     0     0 6133.33333    0    1 1300.00000 6133.33333   372%     -    0s\n",
      "H    0     0                    6132.0000000 6133.33333  0.02%     -    0s\n",
      "     0     0 6133.33333    0    1 6132.00000 6133.33333  0.02%     -    0s\n",
      "\n",
      "Explored 1 nodes (2 simplex iterations) in 0.01 seconds\n",
      "Thread count was 16 (of 16 available processors)\n",
      "\n",
      "Solution count 2: 6132 1300 \n",
      "\n",
      "Optimal solution found (tolerance 1.00e-04)\n",
      "Best objective 6.132000000000e+03, best bound 6.132000000000e+03, gap 0.0000%\n",
      "Product A 0\n",
      "Product B 141\n",
      "Product C 450\n"
     ]
    }
   ],
   "source": [
    "# Optimize model\n",
    "m.optimize()\n",
    "\n",
    "for v in m.getVars():\n",
    "    print('%s %g' % (v.varName, v.x))"
   ]
  }
 ],
 "metadata": {
  "kernelspec": {
   "display_name": "Python 3",
   "language": "python",
   "name": "python3"
  },
  "language_info": {
   "codemirror_mode": {
    "name": "ipython",
    "version": 3
   },
   "file_extension": ".py",
   "mimetype": "text/x-python",
   "name": "python",
   "nbconvert_exporter": "python",
   "pygments_lexer": "ipython3",
   "version": "3.8.8"
  }
 },
 "nbformat": 4,
 "nbformat_minor": 5
}
